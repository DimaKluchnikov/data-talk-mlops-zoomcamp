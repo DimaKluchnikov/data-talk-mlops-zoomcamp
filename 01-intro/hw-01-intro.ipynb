{
 "cells": [
  {
   "cell_type": "code",
   "execution_count": 7,
   "id": "008d0732",
   "metadata": {},
   "outputs": [],
   "source": [
    "# !pip install pyarrow"
   ]
  },
  {
   "cell_type": "markdown",
   "id": "765ab200-b412-4866-9f32-4dff4e16b304",
   "metadata": {},
   "source": [
    "## Q1. Downloading the data\n",
    "\n",
    "We'll use [the same NYC taxi dataset](https://www1.nyc.gov/site/tlc/about/tlc-trip-record-data.page),\n",
    "but instead of \"**Green** Taxi Trip Records\", we'll use \"**Yellow** Taxi Trip Records\".\n",
    "\n",
    "Download the data for January and February 2023.  \n",
    "Read the data for January. How many columns are there?"
   ]
  },
  {
   "cell_type": "code",
   "execution_count": 29,
   "id": "491122ba",
   "metadata": {},
   "outputs": [],
   "source": [
    "import pandas as pd"
   ]
  },
  {
   "cell_type": "code",
   "execution_count": 30,
   "id": "c37d147c",
   "metadata": {},
   "outputs": [
    {
     "name": "stdout",
     "output_type": "stream",
     "text": [
      "CPU times: user 1.5 s, sys: 719 ms, total: 2.22 s\n",
      "Wall time: 1.96 s\n"
     ]
    }
   ],
   "source": [
    "%%time\n",
    "df_j = pd.read_parquet('https://d37ci6vzurychx.cloudfront.net/trip-data/yellow_tripdata_2023-01.parquet')\n",
    "df_f = pd.read_parquet('https://d37ci6vzurychx.cloudfront.net/trip-data/yellow_tripdata_2023-02.parquet')"
   ]
  },
  {
   "cell_type": "code",
   "execution_count": 31,
   "id": "185a3e15",
   "metadata": {},
   "outputs": [
    {
     "data": {
      "text/plain": [
       "19"
      ]
     },
     "execution_count": 31,
     "metadata": {},
     "output_type": "execute_result"
    }
   ],
   "source": [
    "len(df_j.columns)"
   ]
  },
  {
   "cell_type": "code",
   "execution_count": 32,
   "id": "c4819c3e-7225-44f4-986f-7f2844683970",
   "metadata": {},
   "outputs": [
    {
     "data": {
      "text/plain": [
       "VendorID                          int64\n",
       "tpep_pickup_datetime     datetime64[us]\n",
       "tpep_dropoff_datetime    datetime64[us]\n",
       "passenger_count                 float64\n",
       "trip_distance                   float64\n",
       "RatecodeID                      float64\n",
       "store_and_fwd_flag               object\n",
       "PULocationID                      int64\n",
       "DOLocationID                      int64\n",
       "payment_type                      int64\n",
       "fare_amount                     float64\n",
       "extra                           float64\n",
       "mta_tax                         float64\n",
       "tip_amount                      float64\n",
       "tolls_amount                    float64\n",
       "improvement_surcharge           float64\n",
       "total_amount                    float64\n",
       "congestion_surcharge            float64\n",
       "airport_fee                     float64\n",
       "dtype: object"
      ]
     },
     "execution_count": 32,
     "metadata": {},
     "output_type": "execute_result"
    }
   ],
   "source": [
    "df_j.dtypes"
   ]
  },
  {
   "cell_type": "markdown",
   "id": "d4dffda3-f3db-4a51-b27d-1668e0ae2c88",
   "metadata": {},
   "source": [
    "## Q2. Computing duration\n",
    "\n",
    "Now let's compute the `duration` variable. It should contain the duration of a ride in minutes. \n",
    "\n",
    "What's the standard deviation of the trips duration in January"
   ]
  },
  {
   "cell_type": "code",
   "execution_count": 33,
   "id": "d4a0b0b1-090c-4fc3-8bc8-22029c3b250b",
   "metadata": {},
   "outputs": [],
   "source": [
    "df_j['duration']= (df_j['tpep_dropoff_datetime']-df_j['tpep_pickup_datetime']).dt.total_seconds()/60"
   ]
  },
  {
   "cell_type": "code",
   "execution_count": 34,
   "id": "7ed95f6b-311c-498c-9b81-680a0efbd1f7",
   "metadata": {},
   "outputs": [
    {
     "data": {
      "text/plain": [
       "42.594351241920904"
      ]
     },
     "execution_count": 34,
     "metadata": {},
     "output_type": "execute_result"
    }
   ],
   "source": [
    "df_j['duration'].std()"
   ]
  },
  {
   "cell_type": "markdown",
   "id": "c35e883f-2efc-4178-bbd9-43d339ad2167",
   "metadata": {},
   "source": [
    "## Q3. Dropping outliers\n",
    "\n",
    "Next, we need to check the distribution of the `duration` variable. There are some outliers. Let's remove them and keep only the records where the duration was between 1 and 60 minutes (inclusive).\n",
    "\n",
    "What fraction of the records left after you dropped the outliers"
   ]
  },
  {
   "cell_type": "code",
   "execution_count": 35,
   "id": "cad0943f-9fe6-46a8-a330-c6094550cd0d",
   "metadata": {},
   "outputs": [
    {
     "data": {
      "text/plain": [
       "0.9812202822125979"
      ]
     },
     "execution_count": 35,
     "metadata": {},
     "output_type": "execute_result"
    }
   ],
   "source": [
    "((df_j['duration']>=1) & (df_j['duration']<=60)).mean()"
   ]
  },
  {
   "cell_type": "code",
   "execution_count": 36,
   "id": "f6c9e0ce-8fa5-43bd-8441-432ff9634814",
   "metadata": {},
   "outputs": [],
   "source": [
    "df_j = df_j[(df_j['duration']>=1) & (df_j['duration']<=60)]"
   ]
  },
  {
   "cell_type": "code",
   "execution_count": null,
   "id": "8a1ee4e9-98f1-482d-96dd-da93731c351c",
   "metadata": {},
   "outputs": [],
   "source": []
  },
  {
   "cell_type": "code",
   "execution_count": null,
   "id": "3dd72e00-b201-41da-b481-b45a7a9415f4",
   "metadata": {},
   "outputs": [],
   "source": []
  }
 ],
 "metadata": {
  "kernelspec": {
   "display_name": "Python 3 (ipykernel)",
   "language": "python",
   "name": "python3"
  },
  "language_info": {
   "codemirror_mode": {
    "name": "ipython",
    "version": 3
   },
   "file_extension": ".py",
   "mimetype": "text/x-python",
   "name": "python",
   "nbconvert_exporter": "python",
   "pygments_lexer": "ipython3",
   "version": "3.11.7"
  }
 },
 "nbformat": 4,
 "nbformat_minor": 5
}
