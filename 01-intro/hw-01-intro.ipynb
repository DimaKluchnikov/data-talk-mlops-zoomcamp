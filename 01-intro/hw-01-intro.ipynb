{
 "cells": [
  {
   "cell_type": "code",
   "execution_count": 7,
   "id": "008d0732",
   "metadata": {},
   "outputs": [],
   "source": [
    "# !pip install pyarrow"
   ]
  },
  {
   "cell_type": "markdown",
   "id": "765ab200-b412-4866-9f32-4dff4e16b304",
   "metadata": {},
   "source": [
    "## Q1. Downloading the data\n",
    "\n",
    "We'll use [the same NYC taxi dataset](https://www1.nyc.gov/site/tlc/about/tlc-trip-record-data.page),\n",
    "but instead of \"**Green** Taxi Trip Records\", we'll use \"**Yellow** Taxi Trip Records\".\n",
    "\n",
    "Download the data for January and February 2023.  \n",
    "Read the data for January. How many columns are there?"
   ]
  },
  {
   "cell_type": "code",
   "execution_count": 1,
   "id": "491122ba",
   "metadata": {},
   "outputs": [],
   "source": [
    "import pandas as pd"
   ]
  },
  {
   "cell_type": "code",
   "execution_count": 2,
   "id": "c37d147c",
   "metadata": {},
   "outputs": [
    {
     "name": "stdout",
     "output_type": "stream",
     "text": [
      "CPU times: user 1.47 s, sys: 719 ms, total: 2.19 s\n",
      "Wall time: 2.08 s\n"
     ]
    }
   ],
   "source": [
    "%%time\n",
    "df_j = pd.read_parquet('https://d37ci6vzurychx.cloudfront.net/trip-data/yellow_tripdata_2023-01.parquet')\n",
    "df_f = pd.read_parquet('https://d37ci6vzurychx.cloudfront.net/trip-data/yellow_tripdata_2023-02.parquet')"
   ]
  },
  {
   "cell_type": "code",
   "execution_count": 3,
   "id": "185a3e15",
   "metadata": {},
   "outputs": [
    {
     "data": {
      "text/plain": [
       "19"
      ]
     },
     "execution_count": 3,
     "metadata": {},
     "output_type": "execute_result"
    }
   ],
   "source": [
    "len(df_j.columns)"
   ]
  },
  {
   "cell_type": "code",
   "execution_count": 4,
   "id": "c4819c3e-7225-44f4-986f-7f2844683970",
   "metadata": {},
   "outputs": [
    {
     "data": {
      "text/plain": [
       "VendorID                          int64\n",
       "tpep_pickup_datetime     datetime64[us]\n",
       "tpep_dropoff_datetime    datetime64[us]\n",
       "passenger_count                 float64\n",
       "trip_distance                   float64\n",
       "RatecodeID                      float64\n",
       "store_and_fwd_flag               object\n",
       "PULocationID                      int64\n",
       "DOLocationID                      int64\n",
       "payment_type                      int64\n",
       "fare_amount                     float64\n",
       "extra                           float64\n",
       "mta_tax                         float64\n",
       "tip_amount                      float64\n",
       "tolls_amount                    float64\n",
       "improvement_surcharge           float64\n",
       "total_amount                    float64\n",
       "congestion_surcharge            float64\n",
       "airport_fee                     float64\n",
       "dtype: object"
      ]
     },
     "execution_count": 4,
     "metadata": {},
     "output_type": "execute_result"
    }
   ],
   "source": [
    "df_j.dtypes"
   ]
  },
  {
   "cell_type": "markdown",
   "id": "d4dffda3-f3db-4a51-b27d-1668e0ae2c88",
   "metadata": {},
   "source": [
    "## Q2. Computing duration\n",
    "\n",
    "Now let's compute the `duration` variable. It should contain the duration of a ride in minutes. \n",
    "\n",
    "What's the standard deviation of the trips duration in January"
   ]
  },
  {
   "cell_type": "code",
   "execution_count": 5,
   "id": "d4a0b0b1-090c-4fc3-8bc8-22029c3b250b",
   "metadata": {},
   "outputs": [],
   "source": [
    "df_j['duration']= (df_j['tpep_dropoff_datetime']-df_j['tpep_pickup_datetime']).dt.total_seconds()/60"
   ]
  },
  {
   "cell_type": "code",
   "execution_count": 6,
   "id": "7ed95f6b-311c-498c-9b81-680a0efbd1f7",
   "metadata": {},
   "outputs": [
    {
     "data": {
      "text/plain": [
       "42.594351241920904"
      ]
     },
     "execution_count": 6,
     "metadata": {},
     "output_type": "execute_result"
    }
   ],
   "source": [
    "df_j['duration'].std()"
   ]
  },
  {
   "cell_type": "markdown",
   "id": "c35e883f-2efc-4178-bbd9-43d339ad2167",
   "metadata": {},
   "source": [
    "## Q3. Dropping outliers\n",
    "\n",
    "Next, we need to check the distribution of the `duration` variable. There are some outliers. Let's remove them and keep only the records where the duration was between 1 and 60 minutes (inclusive).\n",
    "\n",
    "What fraction of the records left after you dropped the outliers"
   ]
  },
  {
   "cell_type": "code",
   "execution_count": 7,
   "id": "cad0943f-9fe6-46a8-a330-c6094550cd0d",
   "metadata": {},
   "outputs": [
    {
     "data": {
      "text/plain": [
       "0.9812202822125979"
      ]
     },
     "execution_count": 7,
     "metadata": {},
     "output_type": "execute_result"
    }
   ],
   "source": [
    "((df_j['duration']>=1) & (df_j['duration']<=60)).mean()"
   ]
  },
  {
   "cell_type": "code",
   "execution_count": 10,
   "id": "f6c9e0ce-8fa5-43bd-8441-432ff9634814",
   "metadata": {},
   "outputs": [],
   "source": [
    "df_j = df_j[(df_j['duration']>=1) & (df_j['duration']<=60)]"
   ]
  },
  {
   "cell_type": "markdown",
   "id": "14b91c29-f860-484c-b71d-04aac7ddddbb",
   "metadata": {},
   "source": [
    "## Q4. One-hot encoding\n",
    "\n",
    "Let's apply one-hot encoding to the pickup and dropoff location IDs. We'll use only these two features for our model. \n",
    "\n",
    "* Turn the dataframe into a list of dictionaries (remember to re-cast the ids to strings - otherwise it will \n",
    "  label encode them)\n",
    "* Fit a dictionary vectorizer \n",
    "* Get a feature matrix from it\n"
   ]
  },
  {
   "cell_type": "code",
   "execution_count": 8,
   "id": "07a76574-888b-4aa9-8eaa-078adefe6f85",
   "metadata": {},
   "outputs": [],
   "source": [
    "from sklearn.feature_extraction import DictVectorizer"
   ]
  },
  {
   "cell_type": "code",
   "execution_count": 11,
   "id": "adb5176e-4f71-442b-a3f1-ad84db668d08",
   "metadata": {},
   "outputs": [],
   "source": [
    "categorical = ['PULocationID', 'DOLocationID']\n",
    "df_j[categorical] = df_j[categorical].astype(str)\n"
   ]
  },
  {
   "cell_type": "code",
   "execution_count": 12,
   "id": "3dd72e00-b201-41da-b481-b45a7a9415f4",
   "metadata": {},
   "outputs": [],
   "source": [
    "train_dicts = df_j[categorical].to_dict(orient='records')"
   ]
  },
  {
   "cell_type": "code",
   "execution_count": 13,
   "id": "1de17ae9-66a7-4a71-997b-d683d7d4e9d1",
   "metadata": {},
   "outputs": [],
   "source": [
    "dv = DictVectorizer()\n",
    "X_train = dv.fit_transform(train_dicts)"
   ]
  },
  {
   "cell_type": "code",
   "execution_count": 14,
   "id": "16728e49-a253-4c1f-9dbd-e9a3456889b0",
   "metadata": {},
   "outputs": [
    {
     "data": {
      "text/plain": [
       "(3009173, 515)"
      ]
     },
     "execution_count": 14,
     "metadata": {},
     "output_type": "execute_result"
    }
   ],
   "source": [
    "X_train.shape"
   ]
  },
  {
   "cell_type": "markdown",
   "id": "4de646e2-7da8-4d23-9c82-d51a9f9ab54b",
   "metadata": {},
   "source": [
    "\n",
    "## Q5. Training a model\n",
    "\n",
    "Now let's use the feature matrix from the previous step to train a model. \n",
    "\n",
    "* Train a plain linear regression model with default parameters \n",
    "* Calculate the RMSE of the model on the training data"
   ]
  },
  {
   "cell_type": "code",
   "execution_count": 18,
   "id": "d78a8985-fb86-4ff2-b5ce-dca3326ffaeb",
   "metadata": {},
   "outputs": [],
   "source": [
    "from sklearn.linear_model import LinearRegression\n",
    "from sklearn.metrics import mean_squared_error"
   ]
  },
  {
   "cell_type": "code",
   "execution_count": 16,
   "id": "b46de576-ee46-4798-81c2-2f7e5541fa4b",
   "metadata": {},
   "outputs": [],
   "source": [
    "target = 'duration'\n",
    "y_train = df_j[target].values"
   ]
  },
  {
   "cell_type": "code",
   "execution_count": 20,
   "id": "2eefbe5d-0480-4b53-bcc0-45782e18333d",
   "metadata": {},
   "outputs": [
    {
     "data": {
      "text/plain": [
       "7.649261929771859"
      ]
     },
     "execution_count": 20,
     "metadata": {},
     "output_type": "execute_result"
    }
   ],
   "source": [
    "lr = LinearRegression()\n",
    "lr.fit(X_train, y_train)\n",
    "\n",
    "y_pred = lr.predict(X_train)\n",
    "\n",
    "mean_squared_error(y_train, y_pred, squared=False)"
   ]
  },
  {
   "cell_type": "markdown",
   "id": "6ce3017a-177c-4ce2-8727-96f4a1dbe561",
   "metadata": {},
   "source": [
    "## Q6. Evaluating the model\n",
    "\n",
    "Now let's apply this model to the validation dataset (February 2023). \n",
    "\n",
    "What's the RMSE on validation?"
   ]
  },
  {
   "cell_type": "code",
   "execution_count": 22,
   "id": "22f9e13d-661d-40bc-bfed-88ecb9cdbee5",
   "metadata": {},
   "outputs": [
    {
     "name": "stderr",
     "output_type": "stream",
     "text": [
      "/tmp/ipykernel_2472/2485013982.py:3: SettingWithCopyWarning: \n",
      "A value is trying to be set on a copy of a slice from a DataFrame.\n",
      "Try using .loc[row_indexer,col_indexer] = value instead\n",
      "\n",
      "See the caveats in the documentation: https://pandas.pydata.org/pandas-docs/stable/user_guide/indexing.html#returning-a-view-versus-a-copy\n",
      "  df_f[categorical] = df_f[categorical].astype(str)\n"
     ]
    }
   ],
   "source": [
    "df_f['duration']= (df_f['tpep_dropoff_datetime']-df_f['tpep_pickup_datetime']).dt.total_seconds()/60\n",
    "df_f = df_f[(df_f['duration']>=1) & (df_f['duration']<=60)]\n",
    "df_f[categorical] = df_f[categorical].astype(str)\n",
    "valid_dicts = df_f[categorical].to_dict(orient='records')\n",
    "X_valid = dv.transform(valid_dicts)"
   ]
  },
  {
   "cell_type": "code",
   "execution_count": 23,
   "id": "a18ecb14-9a67-4227-a623-9d8db55d7ee4",
   "metadata": {},
   "outputs": [],
   "source": [
    "y_valid = df_f[target].values"
   ]
  },
  {
   "cell_type": "code",
   "execution_count": 24,
   "id": "92370ed3-56e0-4dd9-9ec7-5d488fc03405",
   "metadata": {},
   "outputs": [
    {
     "data": {
      "text/plain": [
       "7.811818933419717"
      ]
     },
     "execution_count": 24,
     "metadata": {},
     "output_type": "execute_result"
    }
   ],
   "source": [
    "y_pred_valid = lr.predict(X_valid)\n",
    "\n",
    "mean_squared_error(y_valid, y_pred_valid, squared=False)"
   ]
  }
 ],
 "metadata": {
  "kernelspec": {
   "display_name": "Python 3 (ipykernel)",
   "language": "python",
   "name": "python3"
  },
  "language_info": {
   "codemirror_mode": {
    "name": "ipython",
    "version": 3
   },
   "file_extension": ".py",
   "mimetype": "text/x-python",
   "name": "python",
   "nbconvert_exporter": "python",
   "pygments_lexer": "ipython3",
   "version": "3.11.7"
  }
 },
 "nbformat": 4,
 "nbformat_minor": 5
}
